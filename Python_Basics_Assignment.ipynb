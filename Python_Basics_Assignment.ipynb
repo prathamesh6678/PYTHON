{
    "cells": [
        {
            "cell_type": "markdown",
            "metadata": {},
            "source": [
                "# Python Basics Assignment Answers"
            ]
        },
        {
            "cell_type": "markdown",
            "metadata": {},
            "source": [
                "This notebook contains the answers to the Python Basics Assignment questions."
            ]
        },
        {
            "cell_type": "markdown",
            "metadata": {},
            "source": [
                "## Theoretical Questions"
            ]
        },
        {
            "cell_type": "markdown",
            "metadata": {},
            "source": [
                "### 1. What is Python, and why is it popular?\n",
                "\n",
                "**Answer:** Python is a high-level, interpreted, general-purpose programming language. It is popular due to its simplicity and readability (syntax similar to English), vast standard library, extensive third-party libraries (e.g., for data science, web development, AI), cross-platform compatibility, and a large, supportive community."
            ]
        },
        {
            "cell_type": "markdown",
            "metadata": {},
            "source": [
                "### 2. What is an interpreter in Python?\n",
                "\n",
                "**Answer:** An interpreter in Python is a program that directly executes instructions written in a programming language, without requiring them previously to have been compiled into a machine-language program. Python code is executed line by line by the interpreter, making it easier to debug and test."
            ]
        },
        {
            "cell_type": "markdown",
            "metadata": {},
            "source": [
                "### 3. What are pre-defined keywords in Python?\n",
                "\n",
                "**Answer:** Pre-defined keywords (or reserved words) in Python are special words that have specific meanings and purposes within the language. They cannot be used as identifiers (e.g., variable names, function names) because they are reserved for built-in functionalities. Examples include `if`, `else`, `for`, `while`, `def`, `class`, `import`, `True`, `False`, `None`, etc."
            ]
        },
        {
            "cell_type": "markdown",
            "metadata": {},
            "source": [
                "### 4. Can keywords be used as variable names?\n",
                "\n",
                "**Answer:** No, keywords cannot be used as variable names (or any other identifier) in Python. Doing so will result in a `SyntaxError` because they have special meanings to the Python interpreter."
            ]
        },
        {
            "cell_type": "markdown",
            "metadata": {},
            "source": [
                "### 5. What is mutability in Python?\n",
                "\n",
                "**Answer:** Mutability in Python refers to the ability of an object to be changed after it has been created. Mutable objects can have their state or content modified in-place without creating a new object. Examples of mutable objects include lists, dictionaries, and sets."
            ]
        },
        {
            "cell_type": "markdown",
            "metadata": {},
            "source": [
                "### 6. Why are lists mutable, but tuples are immutable?\n",
                "\n",
                "**Answer:**\n",
                "- **Lists are mutable** because they are designed to be dynamic collections where elements can be added, removed, or modified after creation. This makes them suitable for situations where the collection of items needs to change frequently.\n",
                "- **Tuples are immutable** because they are designed to be fixed, ordered collections of items. Once a tuple is created, its elements cannot be changed, added, or removed. This immutability provides data integrity (guaranteeing the tuple's content won't change unexpectedly) and makes them suitable for use as dictionary keys (which require hashable, immutable objects) or for storing heterogeneous data where the structure is fixed."
            ]
        },
        {
            "cell_type": "markdown",
            "metadata": {},
            "source": [
                "### 7. What is the difference between \"==\" and \"is\" operators in Python?\n",
                "\n",
                "**Answer:**\n",
                "- The `==` operator checks for **value equality**. It evaluates whether the values of two operands are equal.\n",
                "- The `is` operator checks for **identity equality**. It evaluates whether two operands refer to the exact same object in memory (i.e., they have the same memory address). While `a == b` might be true, `a is b` might be false if they are different objects with the same value."
            ]
        },
        {
            "cell_type": "markdown",
            "metadata": {},
            "source": [
                "### 8. What are logical operators in Python?\n",
                "\n",
                "**Answer:** Logical operators are used to combine conditional statements. Python has three logical operators:\n",
                "- `and`: Returns `True` if both operands are true.\n",
                "- `or`: Returns `True` if at least one of the operands is true.\n",
                "- `not`: Reverses the boolean state of the operand (returns `True` if the operand is false, and vice versa)."
            ]
        },
        {
            "cell_type": "markdown",
            "metadata": {},
            "source": [
                "### 9. What is type casting in Python?\n",
                "\n",
                "**Answer:** Type casting (or type conversion) in Python is the process of converting a value from one data type to another. This can be useful when you need to perform operations that require specific data types (e.g., performing arithmetic on numbers that were initially strings)."
            ]
        },
        {
            "cell_type": "markdown",
            "metadata": {},
            "source": [
                "### 10. What is the difference between implicit and explicit type casting?\n",
                "\n",
                "**Answer:**\n",
                "- **Implicit Type Casting (Coercion):** This is an automatic type conversion performed by the Python interpreter without any user intervention. It typically occurs when operations involve different data types, and Python promotes the smaller data type to a larger one to avoid data loss (e.g., `int` to `float`).\n",
                "- **Explicit Type Casting (Type Conversion):** This is a manual type conversion performed by the programmer using built-in functions like `int()`, `float()`, `str()`, `list()`, `tuple()`, etc. It is used when you need to specifically convert a value from one type to another, even if it might result in data loss or a `ValueError` if the conversion is not possible."
            ]
        },
        {
            "cell_type": "markdown",
            "metadata": {},
            "source": [
                "### 11. What is the purpose of conditional statements in Python?\n",
                "\n",
                "**Answer:** Conditional statements (like `if`, `elif`, `else`) are used to execute different blocks of code based on whether a specified condition evaluates to `True` or `False`. They allow programs to make decisions and control the flow of execution, enabling different behaviors depending on input or circumstances."
            ]
        },
        {
            "cell_type": "markdown",
            "metadata": {},
            "source": [
                "### 12. How does the elif statement work?\n",
                "\n",
                "**Answer:** The `elif` (short for 'else if') statement is used in conjunction with an `if` statement to check multiple conditions sequentially. If the `if` condition is `False`, Python then checks the `elif` condition. If the `elif` condition is `True`, its corresponding block of code is executed. You can have multiple `elif` statements after an `if` statement. If none of the `if` or `elif` conditions are met, the `else` block (if present) is executed."
            ]
        },
        {
            "cell_type": "markdown",
            "metadata": {},
            "source": [
                "### 13. What is the difference between for and while loops?\n",
                "\n",
                "**Answer:**\n",
                "- **`for` loop:** Used for iterating over a sequence (like a list, tuple, string, or range) or other iterable objects. It's typically used when you know the number of iterations in advance or when you need to process each item in a collection.\n",
                "- **`while` loop:** Used to repeatedly execute a block of code as long as a given condition is `True`. It's typically used when the number of iterations is not known beforehand, and the loop continues until a certain condition is met (or becomes `False`)."
            ]
        },
        {
            "cell_type": "markdown",
            "metadata": {},
            "source": [
                "### 14. Describe a scenario where a while loop is more suitable than a for loop.\n",
                "\n",
                "**Answer:** A `while` loop is more suitable when the number of iterations is uncertain and depends on a condition being met. \n",
                "\n",
                "**Scenario:** Reading user input until a specific keyword is entered. For example, prompting a user to enter numbers until they type 'done'. You don't know in advance how many numbers the user will enter, so a `while` loop that continues as long as the input is not 'done' is appropriate."
            ]
        },
        {
            "cell_type": "markdown",
            "metadata": {},
            "source": [
                "## Practical Questions"
            ]
        },
        {
            "cell_type": "markdown",
            "metadata": {},
            "source": [
                "### 1. Write a Python program to print \"Hello, World!\""
            ]
        },
        {
            "cell_type": "code",
            "execution_count": null,
            "metadata": {},
            "outputs": [],
            "source": [
                "print(\"Hello, World!\")"
            ]
        },
        {
            "cell_type": "markdown",
            "metadata": {},
            "source": [
                "### 2. Write a Python program that displays your name and age."
            ]
        },
        {
            "cell_type": "code",
            "execution_count": null,
            "metadata": {},
            "outputs": [],
            "source": [
                "name = \"Alice\"\n",
                "age = 30\n",
                "print(f\"My name is {name} and I am {age} years old.\")"
            ]
        },
        {
            "cell_type": "markdown",
            "metadata": {},
            "source": [
                "### 3. Write code to print all the pre-defined keywords in Python using the keyword library."
            ]
        },
        {
            "cell_type": "code",
            "execution_count": null,
            "metadata": {},
            "outputs": [],
            "source": [
                "import keyword\n",
                "print(\"Python Keywords:\")\n",
                "for kw in keyword.kwlist:\n",
                "    print(kw)"
            ]
        },
        {
            "cell_type": "markdown",
            "metadata": {},
            "source": [
                "### 4. Write a program that checks if a given word is a Python keyword."
            ]
        },
        {
            "cell_type": "code",
            "execution_count": null,
            "metadata": {},
            "outputs": [],
            "source": [
                "import keyword\n",
                "\n",
                "word_to_check = input(\"Enter a word to check if it's a keyword: \")\n",
                "\n",
                "if keyword.iskeyword(word_to_check):\n",
                "    print(f\"'{word_to_check}' is a Python keyword.\")\n",
                "else:\n",
                "    print(f\"'{word_to_check}' is NOT a Python keyword.\")"
            ]
        },
        {
            "cell_type": "markdown",
            "metadata": {},
            "source": [
                "### 5. Create a list and tuple in Python, and demonstrate how attempting to change an element works differently for each."
            ]
        },
        {
            "cell_type": "code",
            "execution_count": null,
            "metadata": {},
            "outputs": [],
            "source": [
                "# List (Mutable)\n",
                "my_list = [1, 2, 3, 4]\n",
                "print(f\"Original List: {my_list}\")\n",
                "my_list[0] = 100 # Modifying an element\n",
                "print(f\"Modified List: {my_list}\")\n",
                "\n",
                "# Tuple (Immutable)\n",
                "my_tuple = (1, 2, 3, 4)\n",
                "print(f\"Original Tuple: {my_tuple}\")\n",
                "try:\n",
                "    my_tuple[0] = 100 # Attempting to modify an element\n",
                "except TypeError as e:\n",
                "    print(f\"Error when trying to modify tuple: {e}\")\n",
                "print(f\"Tuple remains unchanged: {my_tuple}\")"
            ]
        },
        {
            "cell_type": "markdown",
            "metadata": {},
            "source": [
                "### 6. Write a function to demonstrate the behavior of mutable and immutable arguments."
            ]
        },
        {
            "cell_type": "code",
            "execution_count": null,
            "metadata": {},
            "outputs": [],
            "source": [
                "def modify_immutable(num):\n",
                "    \"\"\"Demonstrates that immutable arguments are passed by value (conceptually).\"\"\"\n",
                "    print(f\"Inside function (immutable) - before modification: {num}, id: {id(num)}\")\n",
                "    num += 10 # This creates a new integer object\n",
                "    print(f\"Inside function (immutable) - after modification: {num}, id: {id(num)}\")\n",
                "\n",
                "def modify_mutable(my_list):\n",
                "    \"\"\"Demonstrates that mutable arguments are passed by reference (conceptually).\"\"\"\n",
                "    print(f\"Inside function (mutable) - before modification: {my_list}, id: {id(my_list)}\")\n",
                "    my_list.append(4) # Modifies the original list object\n",
                "    print(f\"Inside function (mutable) - after modification: {my_list}, id: {id(my_list)}\")\n",
                "\n",
                "# Demonstrate with immutable argument (integer)\n",
                "x = 5\n",
                "print(f\"Outside function - original x: {x}, id: {id(x)}\")\n",
                "modify_immutable(x)\n",
                "print(f\"Outside function - x after call: {x}, id: {id(x)}\\n\") # x remains unchanged\n",
                "\n",
                "# Demonstrate with mutable argument (list)\n",
                "my_data = [1, 2, 3]\n",
                "print(f\"Outside function - original my_data: {my_data}, id: {id(my_data)}\")\n",
                "modify_mutable(my_data)\n",
                "print(f\"Outside function - my_data after call: {my_data}, id: {id(my_data)}\") # my_data is changed"
            ]
        },
        {
            "cell_type": "markdown",
            "metadata": {},
            "source": [
                "### 7. Write a program that performs basic arithmetic operations on two user-input numbers."
            ]
        },
        {
            "cell_type": "code",
            "execution_count": null,
            "metadata": {},
            "outputs": [],
            "source": [
                "try:\n",
                "    num1 = float(input(\"Enter the first number: \"))\n",
                "    num2 = float(input(\"Enter the second number: \"))\n",
                "\n",
                "    print(f\"\\nResults:\")\n",
                "    print(f\"{num1} + {num2} = {num1 + num2}\") # Addition\n",
                "    print(f\"{num1} - {num2} = {num1 - num2}\") # Subtraction\n",
                "    print(f\"{num1} * {num2} = {num1 * num2}\") # Multiplication\n",
                "    if num2 != 0:\n",
                "        print(f\"{num1} / {num2} = {num1 / num2}\") # Division\n",
                "    else:\n",
                "        print(\"Division by zero is not allowed.\")\n",
                "    print(f\"{num1} % {num2} = {num1 % num2}\") # Modulo\n",
                "    print(f\"{num1} ** {num2} = {num1 ** num2}\") # Exponentiation\n",
                "except ValueError:\n",
                "    print(\"Invalid input. Please enter valid numbers.\")"
            ]
        },
        {
            "cell_type": "markdown",
            "metadata": {},
            "source": [
                "### 8. Write a program to demonstrate the use of logical operators."
            ]
        },
        {
            "cell_type": "code",
            "execution_count": null,
            "metadata": {},
            "outputs": [],
            "source": [
                "age = 25\n",
                "has_license = True\n",
                "is_student = False\n",
                "\n",
                "print(f\"Age: {age}, Has License: {has_license}, Is Student: {is_student}\\n\")\n",
                "\n",
                "# Using 'and'\n",
                "if age >= 18 and has_license:\n",
                "    print(\"Condition: age >= 18 AND has_license -> You are eligible to drive.\")\n",
                "else:\n",
                "    print(\"Condition: age >= 18 AND has_license -> You are NOT eligible to drive.\")\n",
                "\n",
                "# Using 'or'\n",
                "if age < 18 or is_student:\n",
                "    print(\"Condition: age < 18 OR is_student -> You might get a student discount or are a minor.\")\n",
                "else:\n",
                "    print(\"Condition: age < 18 OR is_student -> You are neither a minor nor a student.\")\n",
                "\n",
                "# Using 'not'\n",
                "if not is_student:\n",
                "    print(\"Condition: NOT is_student -> You are not a student.\")\n",
                "else:\n",
                "    print(\"Condition: NOT is_student -> You are a student.\")"
            ]
        },
        {
            "cell_type": "markdown",
            "metadata": {},
            "source": [
                "### 9. Write a Python program to convert user input from string to integer, float, and boolean types."
            ]
        },
        {
            "cell_type": "code",
            "execution_count": null,
            "metadata": {},
            "outputs": [],
            "source": [
                "user_input_str = input(\"Enter a value: \")\n",
                "\n",
                "print(f\"\\nOriginal input (string): '{user_input_str}', Type: {type(user_input_str)}\")\n",
                "\n",
                "# Convert to Integer\n",
                "try:\n",
                "    int_val = int(user_input_str)\n",
                "    print(f\"Converted to Integer: {int_val}, Type: {type(int_val)}\")\n",
                "except ValueError:\n",
                "    print(f\"Could not convert '{user_input_str}' to Integer.\")\n",
                "\n",
                "# Convert to Float\n",
                "try:\n",
                "    float_val = float(user_input_str)\n",
                "    print(f\"Converted to Float: {float_val}, Type: {type(float_val)}\")\n",
                "except ValueError:\n",
                "    print(f\"Could not convert '{user_input_str}' to Float.\")\n",
                "\n",
                "# Convert to Boolean\n",
                "# For boolean conversion: empty string, 0, None, False are False. Others are True.\n",
                "# For user input, often \"true\"/\"false\" strings are handled explicitly.\n",
                "bool_val = bool(user_input_str)\n",
                "print(f\"Converted to Boolean (using bool()): {bool_val}, Type: {type(bool_val)}\")\n",
                "\n",
                "# More explicit boolean conversion for common string inputs\n",
                "if user_input_str.lower() == \"true\":\n",
                "    explicit_bool_val = True\n",
                "elif user_input_str.lower() == \"false\":\n",
                "    explicit_bool_val = False\n",
                "else:\n",
                "    explicit_bool_val = bool(user_input_str) # Fallback to default bool conversion\n",
                "print(f\"Converted to Boolean (explicit check): {explicit_bool_val}, Type: {type(explicit_bool_val)}\")"
            ]
        },
        {
            "cell_type": "markdown",
            "metadata": {},
            "source": [
                "### 10. Write code to demonstrate type casting with list elements."
            ]
        },
        {
            "cell_type": "code",
            "execution_count": null,
            "metadata": {},
            "outputs": [],
            "source": [
                "string_numbers = [\"1\", \"2\", \"3.5\", \"4\"]\n",
                "print(f\"Original list of strings: {string_numbers}, Types: {[type(x) for x in string_numbers]}\")\n",
                "\n",
                "# Type cast all elements to integers (will fail for \"3.5\")\n",
                "integer_list = []\n",
                "for s in string_numbers:\n",
                "    try:\n",
                "        integer_list.append(int(s))\n",
                "    except ValueError:\n",
                "        integer_list.append(f\"Cannot convert '{s}' to int\")\n",
                "print(f\"List after attempting int casting: {integer_list}, Types: {[type(x) for x in integer_list]}\")\n",
                "\n",
                "# Type cast all elements to floats\n",
                "float_list = [float(s) for s in string_numbers]\n",
                "print(f\"List after float casting: {float_list}, Types: {[type(x) for x in float_list]}\")\n",
                "\n",
                "# Example: List of mixed types, convert to string\n",
                "mixed_list = [10, 20.5, True, \"hello\"]\n",
                "print(f\"\\nOriginal mixed list: {mixed_list}, Types: {[type(x) for x in mixed_list]}\")\n",
                "string_mixed_list = [str(item) for item in mixed_list]\n",
                "print(f\"List after string casting: {string_mixed_list}, Types: {[type(x) for x in string_mixed_list]}\")"
            ]
        },
        {
            "cell_type": "markdown",
            "metadata": {},
            "source": [
                "### 11. Write a program that checks if a number is positive, negative, or zero."
            ]
        },
        {
            "cell_type": "code",
            "execution_count": null,
            "metadata": {},
            "outputs": [],
            "source": [
                "try:\n",
                "    number = float(input(\"Enter a number: \"))\n",
                "\n",
                "    if number > 0:\n",
                "        print(f\"The number {number} is positive.\")\n",
                "    elif number < 0:\n",
                "        print(f\"The number {number} is negative.\")\n",
                "    else:\n",
                "        print(f\"The number {number} is zero.\")\n",
                "except ValueError:\n",
                "    print(\"Invalid input. Please enter a valid number.\")"
            ]
        },
        {
            "cell_type": "markdown",
            "metadata": {},
            "source": [
                "### 12. Write a for loop to print numbers from 1 to 10."
            ]
        },
        {
            "cell_type": "code",
            "execution_count": null,
            "metadata": {},
            "outputs": [],
            "source": [
                "print(\"Numbers from 1 to 10:\")\n",
                "for i in range(1, 11):\n",
                "    print(i)"
            ]
        },
        {
            "cell_type": "markdown",
            "metadata": {},
            "source": [
                "### 13. Write a Python program to find the sum of all even numbers between 1 and 50."
            ]
        },
        {
            "cell_type": "code",
            "execution_count": null,
            "metadata": {},
            "outputs": [],
            "source": [
                "total_sum = 0\n",
                "print(\"Even numbers between 1 and 50:\")\n",
                "for number in range(1, 51):\n",
                "    if number % 2 == 0:\n",
                "        print(number, end=\" \")\n",
                "        total_sum += number\n",
                "print(f\"\\n\\nSum of even numbers between 1 and 50: {total_sum}\")"
            ]
        },
        {
            "cell_type": "markdown",
            "metadata": {},
            "source": [
                "### 14. Write a program to reverse a string using a while loop."
            ]
        },
        {
            "cell_type": "code",
            "execution_count": null,
            "metadata": {},
            "outputs": [],
            "source": [
                "input_string = input(\"Enter a string to reverse: \")\n",
                "reversed_string = \"\"\n",
                "index = len(input_string) - 1\n",
                "\n",
                "while index >= 0:\n",
                "    reversed_string += input_string[index]\n",
                "    index -= 1\n",
                "\n",
                "print(f\"Original string: {input_string}\")\n",
                "print(f\"Reversed string: {reversed_string}\")"
            ]
        },
        {
            "cell_type": "markdown",
            "metadata": {},
            "source": [
                "### 15. Write a Python program to calculate the factorial of a number provided by the user using a while loop."
            ]
        },
        {
            "cell_type": "code",
            "execution_count": null,
            "metadata": {},
            "outputs": [
                {
                    "ename": "",
                    "evalue": "",
                    "output_type": "error",
                    "traceback": [
                        "\u001b[1;31mRunning cells with 'Python 3.11.9' requires the ipykernel package.\n",
                        "\u001b[1;31m<a href='command:jupyter.createPythonEnvAndSelectController'>Create a Python Environment</a> with the required packages.\n",
                        "\u001b[1;31mOr install 'ipykernel' using the command: 'c:/Users/Prathamesh/AppData/Local/Microsoft/WindowsApps/python3.11.exe -m pip install ipykernel -U --user --force-reinstall'"
                    ]
                }
            ],
            "source": [
                "try:\n",
                "    num = int(input(\"Enter a non-negative integer to calculate its factorial: \"))\n",
                "\n",
                "    if num < 0:\n",
                "        print(\"Factorial is not defined for negative numbers.\")\n",
                "    elif num == 0:\n",
                "        print(\"The factorial of 0 is 1.\")\n",
                "    else:\n",
                "        factorial = 1\n",
                "        i = 1\n",
                "        while i <= num:\n",
                "            factorial *= i\n",
                "            i += 1\n",
                "        print(f\"The factorial of {num} is {factorial}.\")\n",
                "except ValueError:\n",
                "    print(\"Invalid input. Please enter an integer.\")"
            ]
        }
    ],
    "metadata": {
        "colab": {
            "collapsed_sections": [],
            "name": "Python_Basics_Assignment_Answers.ipynb",
            "provenance": []
        },
        "kernelspec": {
            "display_name": "Python 3",
            "language": "python",
            "name": "python3"
        },
        "language_info": {
            "codemirror_mode": {
                "name": "ipython",
                "version": 3
            },
            "file_extension": ".py",
            "mimetype": "text/x-python",
            "name": "python",
            "nbconvert_exporter": "python",
            "pygments_lexer": "ipython3",
            "version": "3.11.9"
        }
    },
    "nbformat": 4,
    "nbformat_minor": 5
}
